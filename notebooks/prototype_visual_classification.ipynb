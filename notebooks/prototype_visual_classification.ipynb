
# Prototype: CV Model for Mineral Characterization (Dummy)

## Tujuan
Simulasi model klasifikasi gambar batuan berdasarkan warna untuk mengindikasikan zona laterit:
- Limonit: Warna merah kecoklatan
- Saprolit: Warna hijau sabun / kehijauan
- Batuan Induk: Warna gelap (abu/hitam)

## Langkah Simulasi
1. Load gambar dummy
2. Ambil warna dominan (mean RGB)
3. Klasifikasikan berdasarkan threshold warna
