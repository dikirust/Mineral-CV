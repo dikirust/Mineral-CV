{
 "cells": [
  {
   "cell_type": "markdown",
   "id": "a046b2f8",
   "metadata": {},
   "source": [
    "# Resolving ImportError for numpy.core.multiarray\n",
    "This notebook demonstrates how to resolve the ImportError related to numpy.core.multiarray."
   ]
  },
  {
   "cell_type": "code",
   "execution_count": null,
   "id": "b8a24463",
   "metadata": {},
   "outputs": [],
   "source": [
    "# Uninstall and reinstall numpy, scipy, and scikit-image\n",
    "!pip uninstall numpy scipy scikit-image -y\n",
    "!pip install numpy==1.24.3\n",
    "!pip install scipy\n",
    "!pip install scikit-image"
   ]
  },
  {
   "cell_type": "code",
   "execution_count": null,
   "id": "63a512d4",
   "metadata": {},
   "outputs": [],
   "source": [
    "# Verify the installation\n",
    "import numpy\n",
    "import scipy\n",
    "from skimage import io, measure, color"
   ]
  },
  {
   "cell_type": "code",
   "execution_count": 2,
   "id": "1fbc3975",
   "metadata": {},
   "outputs": [
    {
     "name": "stdout",
     "output_type": "stream",
     "text": [
      "mediapipe 0.10.21 has requirement numpy<2, but you have numpy 2.2.5.\n",
      "Note: you may need to restart the kernel to use updated packages.\n"
     ]
    }
   ],
   "source": [
    "pip check\n"
   ]
  }
 ],
 "metadata": {
  "kernelspec": {
   "display_name": "cv",
   "language": "python",
   "name": "python3"
  },
  "language_info": {
   "codemirror_mode": {
    "name": "ipython",
    "version": 3
   },
   "file_extension": ".py",
   "mimetype": "text/x-python",
   "name": "python",
   "nbconvert_exporter": "python",
   "pygments_lexer": "ipython3",
   "version": "3.12.9"
  }
 },
 "nbformat": 4,
 "nbformat_minor": 5
}
