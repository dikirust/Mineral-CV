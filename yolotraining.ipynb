{
 "cells": [
  {
   "cell_type": "markdown",
   "id": "bfb6580b",
   "metadata": {},
   "source": [
    "# Crack Detection Training Pipeline\n",
    "This notebook demonstrates the training, validation, and evaluation of a YOLOv8 model for crack detection."
   ]
  },
  {
   "cell_type": "code",
   "execution_count": null,
   "id": "06dcee4f",
   "metadata": {},
   "outputs": [],
   "source": [
    "# Install YOLOv8 library\n",
    "!pip install ultralytics"
   ]
  },
  {
   "cell_type": "markdown",
   "id": "bb71fe40",
   "metadata": {},
   "source": [
    "## Step 1: Dataset Preparation\n",
    "Ensure your dataset is annotated in YOLO format. Organize it as follows:\n",
    "\n",
    "```\n",
    "data/\n",
    "  train/\n",
    "    images/\n",
    "    labels/\n",
    "  val/\n",
    "    images/\n",
    "    labels/\n",
    "  test/\n",
    "    images/\n",
    "    labels/\n",
    "```"
   ]
  },
  {
   "cell_type": "code",
   "execution_count": null,
   "id": "1000926c",
   "metadata": {},
   "outputs": [],
   "source": [
    "# Step 2: Import YOLOv8 and Configure Dataset\n",
    "from ultralytics import YOLO\n",
    "\n",
    "# Define dataset path\n",
    "dataset_path = 'data/'\n",
    "\n",
    "# Define model save path\n",
    "model_save_path = 'models/yolov8_crack.pt'"
   ]
  },
  {
   "cell_type": "markdown",
   "id": "2bca6e1c",
   "metadata": {},
   "source": [
    "## Step 3: Train the Model\n",
    "Train the YOLOv8 model using the training dataset."
   ]
  },
  {
   "cell_type": "code",
   "execution_count": null,
   "id": "d4c930c8",
   "metadata": {},
   "outputs": [],
   "source": [
    "# Train YOLOv8 model\n",
    "model = YOLO('yolov8n.pt')  # Load pre-trained YOLOv8 model\n",
    "model.train(data=dataset_path, epochs=50, imgsz=640, save=True, project='models', name='yolov8_crack')"
   ]
  },
  {
   "cell_type": "markdown",
   "id": "e97d55c4",
   "metadata": {},
   "source": [
    "## Step 4: Validate the Model\n",
    "Validate the model on the validation dataset to check performance metrics."
   ]
  },
  {
   "cell_type": "code",
   "execution_count": null,
   "id": "78eb3d12",
   "metadata": {},
   "outputs": [],
   "source": [
    "# Validate the model\n",
    "metrics = model.val(data=dataset_path)\n",
    "print(metrics)"
   ]
  },
  {
   "cell_type": "markdown",
   "id": "e4f10870",
   "metadata": {},
   "source": [
    "## Step 5: Evaluate the Model\n",
    "Evaluate the model on the test dataset and visualize predictions."
   ]
  },
  {
   "cell_type": "code",
   "execution_count": null,
   "id": "15a066d8",
   "metadata": {},
   "outputs": [],
   "source": [
    "# Evaluate the model\n",
    "results = model.predict(source='data/test/images', save=True)\n",
    "for result in results:\n",
    "    result.plot()  # Visualize predictions"
   ]
  },
  {
   "cell_type": "markdown",
   "id": "1af9377c",
   "metadata": {},
   "source": [
    "## Step 6: Save and Load the Model\n",
    "Save the trained model for future use and load it in other scripts."
   ]
  },
  {
   "cell_type": "code",
   "execution_count": null,
   "id": "f2bd961d",
   "metadata": {},
   "outputs": [],
   "source": [
    "# Save the model\n",
    "model.export(format='torchscript', path=model_save_path)\n",
    "\n",
    "# Load the model\n",
    "loaded_model = YOLO(model_save_path)"
   ]
  }
 ],
 "metadata": {
  "kernelspec": {
   "display_name": "cv",
   "language": "python",
   "name": "python3"
  },
  "language_info": {
   "name": "python",
   "version": "3.12.9"
  }
 },
 "nbformat": 4,
 "nbformat_minor": 5
}
